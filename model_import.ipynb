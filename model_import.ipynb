{
  "nbformat": 4,
  "nbformat_minor": 0,
  "metadata": {
    "colab": {
      "provenance": []
    },
    "kernelspec": {
      "name": "python3",
      "display_name": "Python 3"
    },
    "language_info": {
      "name": "python"
    }
  },
  "cells": [
    {
      "cell_type": "code",
      "source": [
        "transform = transforms.Compose([\n",
        "    transforms.Resize((224, 224)),  # resize\n",
        "    transforms.ToTensor(),          # сonvert to tensor\n",
        "    transforms.Normalize(mean=[0.485, 0.456, 0.406], std=[0.229, 0.224, 0.225])  # Normalize\n",
        "])\n",
        "\n",
        "def preprocess_image(image_path):\n",
        "    image = Image.open(image_path)\n",
        "    image_tensor = transform(image)  # transformations\n",
        "    image_tensor = image_tensor.unsqueeze(0)\n",
        "    return image_tensor\n",
        "\n",
        "def load_model(onnx_model_path):\n",
        "    return ort.InferenceSession(onnx_model_path)\n",
        "\n",
        "\n",
        "def predict(model, image_tensor):\n",
        "    # image tensor -> numpy array\n",
        "    input_name = model.get_inputs()[0].name\n",
        "    inputs = {input_name: image_tensor.numpy()}\n",
        "    outputs = model.run(None, inputs)\n",
        "    return outputs\n",
        "\n",
        "if __name__ == \"__main__\":\n",
        "    import torchvision.transforms as transforms\n",
        "    from PIL import Image\n",
        "    import numpy as np\n",
        "    import onnxruntime as ort\n",
        "\n",
        "    image_path = \"viol.jfif\" # THE IMAGE\n",
        "\n",
        "\n",
        "    # onnx_model_path = \"/content/drive/MyDrive/checkpoints/resnet50_3e4_10_secondTry2__epoch_20_accuracy_test_97.4265.onnx\"\n",
        "    onnx_model_path = \"resnet50_3e4_10_secondTry2__epoch_20_accuracy_test_97.4265.onnx\"\n",
        "\n",
        "    # preprocess\n",
        "    image_tensor = preprocess_image(image_path)\n",
        "\n",
        "    # load the model\n",
        "    model = load_model(onnx_model_path)\n",
        "\n",
        "    # prediction\n",
        "    outputs = predict(model, image_tensor)\n",
        "\n",
        "    # raw predictions\n",
        "    logits = outputs[0]\n",
        "    # print(\"Inference logits:\", logits)\n",
        "    # probabilities = np.exp(logits) / np.sum(np.exp(logits), axis=1, keepdims=True)\n",
        "    # print(\"Class probabilities:\", probabilities)\n",
        "\n",
        "\n",
        "    predicted_class = np.argmax(logits)\n",
        "    # print(f\"Predicted class: {predicted_class}\")\n",
        "\n",
        "    class_labels = [  # Define your class labels\n",
        "        \"annual mallow\", \"asian virginsbower\", \"barbados lily\", \"bull thistle\", \"buttercup\",\n",
        "        \"california poppies\", \"calla lily\", \"canna lily\", \"coltsfoot\", \"common columbine\",\n",
        "        \"common cornflag\", \"common daisy\", \"common dandelion\", \"common primroses\", \"corn poppy\",\n",
        "        \"desert rose\", \"fritillaries\", \"garden petunia\", \"passionflower\", \"peruvian lily\",\n",
        "        \"scarlet beebalm\", \"sunflower\", \"tea roses\", \"tiger lily\", \"violets\", \"wallflowers\",\n",
        "        \"water lilies\"\n",
        "    ]\n",
        "    if predicted_class < len(class_labels):\n",
        "        print(f\"Predicted class label: {class_labels[predicted_class]}\")\n",
        "    else:\n",
        "        print(\"Predicted class index is out of range!\")"
      ],
      "metadata": {
        "colab": {
          "base_uri": "https://localhost:8080/"
        },
        "id": "a9xn4y06sZoH",
        "outputId": "6c2219d7-cbfb-4079-eeba-02aab7063806"
      },
      "execution_count": 12,
      "outputs": [
        {
          "output_type": "stream",
          "name": "stdout",
          "text": [
            "Predicted class label: violets\n"
          ]
        }
      ]
    },
    {
      "cell_type": "code",
      "source": [],
      "metadata": {
        "id": "nFuW4CtOsqVR"
      },
      "execution_count": null,
      "outputs": []
    }
  ]
}